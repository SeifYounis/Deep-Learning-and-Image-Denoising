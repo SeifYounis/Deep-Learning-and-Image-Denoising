{
 "cells": [
  {
   "cell_type": "code",
   "execution_count": 1,
   "metadata": {},
   "outputs": [],
   "source": [
    "import os\n",
    "\n",
    "import numpy as np\n",
    "import cv2"
   ]
  },
  {
   "cell_type": "code",
   "execution_count": 2,
   "metadata": {},
   "outputs": [],
   "source": [
    "# Get directory of NIH chest xray dataset folder\n",
    "master_dir = '/gpfs_projects/seif.younis/NIH Chest X-rays/'\n",
    "\n",
    "num_images = 0\n",
    "\n",
    "# Get total number of images from image folders 1-9\n",
    "for folder_no in range(1, 10):\n",
    "    images_dir = master_dir + f'/images_{str(folder_no).zfill(3)}/images'\n",
    "    \n",
    "    num_images += len(os.listdir(images_dir))\n",
    "    \n",
    "print(num_images)"
   ]
  },
  {
   "cell_type": "code",
   "execution_count": 3,
   "metadata": {},
   "outputs": [],
   "source": [
    "size = 256\n",
    "output_channels = 1\n",
    "\n",
    "train = np.ndarray(shape=(num_images, size, size, output_channels), dtype=np.float32)"
   ]
  },
  {
   "cell_type": "code",
   "execution_count": 4,
   "metadata": {},
   "outputs": [
    {
     "name": "stdout",
     "output_type": "stream",
     "text": [
      "Reached folder 1\n",
      "Processed 0 training images\n",
      "Processed 100 training images\n",
      "Processed 200 training images\n",
      "Processed 300 training images\n"
     ]
    },
    {
     "name": "stderr",
     "output_type": "stream",
     "text": [
      "libpng warning: iCCP: profile 'ICC Profile': 'GRAY': Gray color space not permitted on RGB PNG\n"
     ]
    },
    {
     "name": "stdout",
     "output_type": "stream",
     "text": [
      "Processed 400 training images\n",
      "Processed 500 training images\n",
      "Processed 600 training images\n",
      "Processed 700 training images\n",
      "Processed 800 training images\n",
      "Processed 900 training images\n",
      "Processed 1000 training images\n",
      "Processed 1100 training images\n",
      "Processed 1200 training images\n",
      "Processed 1300 training images\n",
      "Processed 1400 training images\n",
      "Processed 1500 training images\n",
      "Processed 1600 training images\n",
      "Processed 1700 training images\n",
      "Processed 1800 training images\n",
      "Processed 1900 training images\n",
      "Processed 2000 training images\n",
      "Processed 2100 training images\n",
      "Processed 2200 training images\n",
      "Processed 2300 training images\n",
      "Processed 2400 training images\n",
      "Processed 2500 training images\n",
      "Processed 2600 training images\n",
      "Processed 2700 training images\n",
      "Processed 2800 training images\n",
      "Processed 2900 training images\n",
      "Processed 3000 training images\n",
      "Processed 3100 training images\n",
      "Processed 3200 training images\n",
      "Processed 3300 training images\n",
      "Processed 3400 training images\n",
      "Processed 3500 training images\n",
      "Processed 3600 training images\n",
      "Processed 3700 training images\n",
      "Processed 3800 training images\n",
      "Processed 3900 training images\n",
      "Processed 4000 training images\n",
      "Processed 4100 training images\n",
      "Processed 4200 training images\n",
      "Processed 4300 training images\n",
      "Processed 4400 training images\n",
      "Processed 4500 training images\n"
     ]
    },
    {
     "ename": "error",
     "evalue": "OpenCV(4.6.0) /io/opencv/modules/imgproc/src/resize.cpp:4052: error: (-215:Assertion failed) !ssize.empty() in function 'resize'\n",
     "output_type": "error",
     "traceback": [
      "\u001b[0;31m---------------------------------------------------------------------------\u001b[0m",
      "\u001b[0;31merror\u001b[0m                                     Traceback (most recent call last)",
      "Input \u001b[0;32mIn [4]\u001b[0m, in \u001b[0;36m<cell line: 2>\u001b[0;34m()\u001b[0m\n\u001b[1;32m     10\u001b[0m dim \u001b[38;5;241m=\u001b[39m (size, size)\n\u001b[1;32m     12\u001b[0m \u001b[38;5;66;03m# resize image and convert to grayscale\u001b[39;00m\n\u001b[0;32m---> 13\u001b[0m img \u001b[38;5;241m=\u001b[39m \u001b[43mcv2\u001b[49m\u001b[38;5;241;43m.\u001b[39;49m\u001b[43mresize\u001b[49m\u001b[43m(\u001b[49m\u001b[43mimg\u001b[49m\u001b[43m,\u001b[49m\u001b[43m \u001b[49m\u001b[43mdim\u001b[49m\u001b[43m,\u001b[49m\u001b[43m \u001b[49m\u001b[43minterpolation\u001b[49m\u001b[38;5;241;43m=\u001b[39;49m\u001b[43mcv2\u001b[49m\u001b[38;5;241;43m.\u001b[39;49m\u001b[43mINTER_AREA\u001b[49m\u001b[43m)\u001b[49m\n\u001b[1;32m     14\u001b[0m img \u001b[38;5;241m=\u001b[39m cv2\u001b[38;5;241m.\u001b[39mcvtColor(img, cv2\u001b[38;5;241m.\u001b[39mCOLOR_BGR2GRAY)\n\u001b[1;32m     15\u001b[0m img \u001b[38;5;241m=\u001b[39m img\u001b[38;5;241m.\u001b[39mreshape(size, size, \u001b[38;5;241m1\u001b[39m)\n",
      "\u001b[0;31merror\u001b[0m: OpenCV(4.6.0) /io/opencv/modules/imgproc/src/resize.cpp:4052: error: (-215:Assertion failed) !ssize.empty() in function 'resize'\n"
     ]
    }
   ],
   "source": [
    "idx = 0\n",
    "for folder_no in range(1, 10):\n",
    "    images_dir = master_dir + f'/images_{str(folder_no).zfill(3)}/images' \n",
    "    \n",
    "    print(f\"Reached folder {folder_no}\")\n",
    "    \n",
    "    for image in os.listdir(images_dir):\n",
    "        img = cv2.imread(images_dir + '/' + image)\n",
    "\n",
    "        dim = (size, size)\n",
    "\n",
    "        # resize image and convert to grayscale\n",
    "        img = cv2.resize(img, dim, interpolation=cv2.INTER_AREA)\n",
    "        img = cv2.cvtColor(img, cv2.COLOR_BGR2GRAY)\n",
    "        img = img.reshape(size, size, 1)\n",
    "\n",
    "        train[idx, :, :, :] = img\n",
    "        \n",
    "        if idx % 100 == 0:\n",
    "            print(f\"Processed {idx} training images\")\n",
    "            \n",
    "        idx += 1"
   ]
  },
  {
   "cell_type": "code",
   "execution_count": null,
   "metadata": {},
   "outputs": [],
   "source": [
    "np.save(master_dir + f'/numpy_arrays/train{size}.npy', train)"
   ]
  },
  {
   "cell_type": "code",
   "execution_count": null,
   "metadata": {},
   "outputs": [],
   "source": [
    "num_images = 2000\n",
    "test = np.ndarray(shape=(num_images,size,size,output_channels), dtype=np.float32)\n",
    "\n",
    "TEST_FOLDER = 10\n",
    "images_dir = master_dir + f'/images_{str(TEST_FOLDER).zfill(3)}/images'\n",
    "\n",
    "idx=0\n",
    "for image in os.listdir(images_dir)[0:num_images]:\n",
    "    img = cv2.imread(images_dir + '/' + image)\n",
    "\n",
    "    dim = (size, size)\n",
    "\n",
    "    # resize image and convert to grayscale\n",
    "    img = cv2.resize(img, dim, interpolation=cv2.INTER_AREA)\n",
    "    img = cv2.cvtColor(img, cv2.COLOR_BGR2GRAY)\n",
    "    img = img.reshape(size, size, 1)\n",
    "\n",
    "    test[idx, :, :, :] = img\n",
    "\n",
    "    if idx % 100 == 0:\n",
    "        print(f\"Processed {idx} training images\")\n",
    "\n",
    "    idx += 1"
   ]
  },
  {
   "cell_type": "code",
   "execution_count": null,
   "metadata": {},
   "outputs": [],
   "source": [
    "np.save(master_dir + f'/numpy_arrays/test{size}.npy', test)"
   ]
  }
 ],
 "metadata": {
  "interpreter": {
   "hash": "d5a8ef4a67cbf75f979b90d9df9e856203cbd65b1a8e3a14569634c32cd693b5"
  },
  "kernelspec": {
   "display_name": "Python 3 (ipykernel)",
   "language": "python",
   "name": "python3"
  },
  "language_info": {
   "codemirror_mode": {
    "name": "ipython",
    "version": 3
   },
   "file_extension": ".py",
   "mimetype": "text/x-python",
   "name": "python",
   "nbconvert_exporter": "python",
   "pygments_lexer": "ipython3",
   "version": "3.10.4"
  }
 },
 "nbformat": 4,
 "nbformat_minor": 4
}
