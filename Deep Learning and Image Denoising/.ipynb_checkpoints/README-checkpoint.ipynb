{
 "cells": [
  {
   "cell_type": "markdown",
   "id": "a64606f0-07d2-4d48-be02-05ff4ea7e561",
   "metadata": {},
   "source": [
    "# The Importance of Objective Methods for the Evaluation of Deep Learning Image Processing Devices\n",
    "\n",
    "## Overview\n",
    "This is an ongoing project investigating the efficacy of generative adversarial networks in removing noise from medical scans, and the degree to which these networks' methods of constructing realistic high-quality xrays from noisy input undermines necessary objectivity in processing raw medical image data.\n",
    "\n",
    "## References\n",
    "1. [Denoising Autoencoders](#denoising-autoencoders)\n",
    "2. [Generative Adversarial Networks](#generative-adversarial-networks-gan)\n",
    "3. [Network Optimization]()\n",
    "3. [Simulating Image Noise](#simulating-x-ray-image-noise)\n",
    "---\n",
    "### Denoising Autoencoders\n",
    "\n",
    "#### Tutorials\n",
    "- [Tensorflow Intro to Autoencoders](https://www.tensorflow.org/tutorials/generative/autoencoder?hl=en)\n",
    "- [Keras Denoising Autoencoder](https://keras.io/examples/vision/autoencoder)\n",
    "\n",
    "#### Research\n",
    "- Medical Image Denoising Using Convolutional Denoising Autoencoders [[paper]](https://arxiv.org/pdf/1608.04667.pdf) [[code]](https://github.com/adam-mah/Medical-Image-Denoising/tree/53101562b75b44ec8722486a54d17cc961b4bbea)\n",
    "- Learning Deep Representations Using Convolutional Auto-Encoders with Symmetric Skip Connections [[paper]](https://arxiv.org/pdf/1611.09119.pdf) [[code]](https://github.com/MS1997/Autoencoders-with-skip-connections)\n",
    "- Hyperspectral X-Ray Denoising: Model-Based and Data-Driven Solutions [[paper]](https://nicobonne.github.io/assets/papers/eusipco_2019.pdf)\n",
    "\n",
    "---\n",
    "\n",
    "### Generative Adversarial Networks (GAN)\n",
    "\n",
    "#### Tutorials\n",
    "- [Tensorflow DCGAN](https://www.tensorflow.org/tutorials/generative/dcgan?hl=en)\n",
    "- [Tensorflow ESRGAN](https://www.tensorflow.org/hub/tutorials/image_enhancing)\n",
    "- StyleGAN2 [[Tensorflow]](https://github.com/NVlabs/stylegan2)\n",
    "- StyleGAN2 ADA [[Tensorflow]](https://github.com/NVlabs/stylegan2-ada)[[PyTorch]](https://github.com/NVlabs/stylegan2-ada-pytorch)\n",
    "\n",
    "#### Research\n",
    "- Low Dose CT Image Denoising Using a Generative Adversarial Network with Wasserstein Distance and Perceptual Loss [[paper]](https://www.ncbi.nlm.nih.gov/pmc/articles/PMC6021013/pdf/nihms973044.pdf) [[code]](https://github.com/yyqqss09/ldct_denoising)\n",
    "- Digital Radiography Image Denoising Using a Generative Adversarial Network [[paper]](https://www.ncbi.nlm.nih.gov/pmc/articles/PMC6130336/pdf/xst-26-xst17356.pdf)\n",
    "- GAN-based Noise Model for Denoising Real Images [[paper]](https://openaccess.thecvf.com/content/ACCV2020/papers/Tran_GAN-based_Noise_Model_for_Denoising_Real_Images_ACCV_2020_paper.pdf)\n",
    "---\n",
    "\n",
    "### Network Optimization\n",
    "1. VGG Loss [[paper]](https://paperswithcode.com/method/vgg-loss) [[code]](https://colab.research.google.com/gist/jvishnuvardhan/dfd2cf563b1a3e255455b3c54e64d3b8/tf_30534_customloss.ipynb#scrollTo=e3TFz1m2n1sj) [[docs]](https://keras.io/api/applications/vgg/)\n",
    "2. Improved Training of Wasserstein GANs [[paper]](https://arxiv.org/pdf/1704.00028.pdf) [[code]](https://github.com/henry32144/wgan-gp-tensorflow)\n",
    "\n",
    "---\n",
    "### Simulating X-ray Image Noise\n",
    "\n",
    "#### Research\n",
    "- A Technique for Simulating the Effect of Dose Reduction on Image Quality in Digital Chest Radiography [[paper]](https://www.ncbi.nlm.nih.gov/pmc/articles/PMC3043684/#CR4)\n",
    "- Unprocessing Images for Learned Raw Denoising [[paper]](https://arxiv.org/pdf/1811.11127.pdf)[[code]](https://github.com/timothybrooks/unprocessing)\n"
   ]
  },
  {
   "cell_type": "code",
   "execution_count": null,
   "id": "0c902cd8-09d6-4db7-a8e1-7bdf9293fdec",
   "metadata": {},
   "outputs": [],
   "source": []
  }
 ],
 "metadata": {
  "kernelspec": {
   "display_name": "Python 3 (ipykernel)",
   "language": "python",
   "name": "python3"
  },
  "language_info": {
   "codemirror_mode": {
    "name": "ipython",
    "version": 3
   },
   "file_extension": ".py",
   "mimetype": "text/x-python",
   "name": "python",
   "nbconvert_exporter": "python",
   "pygments_lexer": "ipython3",
   "version": "3.10.4"
  }
 },
 "nbformat": 4,
 "nbformat_minor": 5
}
