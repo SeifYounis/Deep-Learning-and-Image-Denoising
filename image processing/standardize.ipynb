{
 "cells": [
  {
   "cell_type": "markdown",
   "id": "3393f615-ada5-4647-a316-b2cb86cd75d8",
   "metadata": {},
   "source": [
    "# Standardize\n",
    "\n",
    "Load images from NIH Chest Xray dataset and standardize their numpy array shapes."
   ]
  },
  {
   "cell_type": "code",
   "execution_count": 4,
   "id": "e356a4c0-a9c9-4165-8af1-a0c9e68e8b81",
   "metadata": {},
   "outputs": [],
   "source": [
    "import os\n",
    "import zipfile\n",
    "\n",
    "import numpy as np\n",
    "import cv2\n",
    "import PIL.Image"
   ]
  },
  {
   "cell_type": "code",
   "execution_count": 5,
   "id": "988fd563-1ce9-4c59-8331-5b91bbdb9ac0",
   "metadata": {},
   "outputs": [],
   "source": [
    "# Get directory of NIH chest xray dataset folder\n",
    "master_dir = '/gpfs_projects/seif.younis/NIH Chest X-rays/'"
   ]
  },
  {
   "cell_type": "code",
   "execution_count": 6,
   "id": "84a288df-bca1-4a53-b677-235ee7699eda",
   "metadata": {},
   "outputs": [
    {
     "name": "stdout",
     "output_type": "stream",
     "text": [
      "Standardized 0 images\n",
      "Standardized 1000 images\n",
      "Standardized 2000 images\n",
      "Standardized 3000 images\n",
      "Standardized 4000 images\n",
      "Standardized 5000 images\n",
      "Standardized 6000 images\n",
      "Standardized 7000 images\n"
     ]
    },
    {
     "name": "stderr",
     "output_type": "stream",
     "text": [
      "libpng warning: iCCP: profile 'ICC Profile': 'GRAY': Gray color space not permitted on RGB PNG\n"
     ]
    },
    {
     "name": "stdout",
     "output_type": "stream",
     "text": [
      "Standardized 8000 images\n",
      "Standardized 9000 images\n",
      "Standardized 10000 images\n",
      "Standardized 11000 images\n",
      "Standardized 12000 images\n",
      "Standardized 13000 images\n",
      "Standardized 14000 images\n"
     ]
    },
    {
     "name": "stderr",
     "output_type": "stream",
     "text": [
      "libpng warning: iCCP: profile 'ICC Profile': 'GRAY': Gray color space not permitted on RGB PNG\n"
     ]
    },
    {
     "name": "stdout",
     "output_type": "stream",
     "text": [
      "Standardized 15000 images\n",
      "Standardized 16000 images\n",
      "Standardized 17000 images\n",
      "Standardized 18000 images\n",
      "Standardized 19000 images\n",
      "Standardized 20000 images\n",
      "Standardized 21000 images\n",
      "Standardized 22000 images\n",
      "Standardized 23000 images\n",
      "Standardized 24000 images\n",
      "Standardized 25000 images\n",
      "Standardized 26000 images\n",
      "Standardized 27000 images\n",
      "Standardized 28000 images\n",
      "Standardized 29000 images\n",
      "Standardized 30000 images\n",
      "Standardized 31000 images\n",
      "Standardized 32000 images\n",
      "Standardized 33000 images\n",
      "Standardized 34000 images\n",
      "Standardized 35000 images\n",
      "Standardized 36000 images\n",
      "Standardized 37000 images\n",
      "Standardized 38000 images\n",
      "Standardized 39000 images\n",
      "Standardized 40000 images\n",
      "Standardized 41000 images\n",
      "Standardized 42000 images\n",
      "Standardized 43000 images\n",
      "Standardized 44000 images\n",
      "Standardized 45000 images\n",
      "Standardized 46000 images\n",
      "Standardized 47000 images\n",
      "Standardized 48000 images\n",
      "Standardized 49000 images\n",
      "Standardized 50000 images\n",
      "Standardized 51000 images\n",
      "Standardized 52000 images\n",
      "Standardized 53000 images\n",
      "Standardized 54000 images\n",
      "Standardized 55000 images\n",
      "Standardized 56000 images\n",
      "Standardized 57000 images\n",
      "Standardized 58000 images\n",
      "Standardized 59000 images\n",
      "Standardized 60000 images\n",
      "Standardized 61000 images\n",
      "Standardized 62000 images\n",
      "Standardized 63000 images\n",
      "Standardized 64000 images\n",
      "Standardized 65000 images\n",
      "Standardized 66000 images\n",
      "Standardized 67000 images\n",
      "Standardized 68000 images\n",
      "Standardized 69000 images\n",
      "Standardized 70000 images\n",
      "Standardized 71000 images\n",
      "Standardized 72000 images\n",
      "Standardized 73000 images\n",
      "Standardized 74000 images\n",
      "Standardized 75000 images\n",
      "Standardized 76000 images\n",
      "Standardized 77000 images\n",
      "Standardized 78000 images\n",
      "Standardized 79000 images\n",
      "Standardized 80000 images\n",
      "Standardized 81000 images\n",
      "Standardized 82000 images\n",
      "Standardized 83000 images\n",
      "Standardized 84000 images\n",
      "Standardized 85000 images\n",
      "Standardized 86000 images\n",
      "Standardized 87000 images\n",
      "Standardized 88000 images\n",
      "Standardized 89000 images\n",
      "Standardized 90000 images\n",
      "Standardized 91000 images\n",
      "Standardized 92000 images\n",
      "Standardized 93000 images\n",
      "Standardized 94000 images\n",
      "Finished standardizing images\n"
     ]
    }
   ],
   "source": [
    "images_dir = master_dir + '/xray-dataset' \n",
    "for i, image in enumerate(os.listdir(images_dir)):\n",
    "    img = np.asarray(PIL.Image.open(images_dir + '/' + image))\n",
    "    \n",
    "    if img.shape != (1024, 1024):\n",
    "        img = cv2.imread(images_dir + '/' + image)\n",
    "        \n",
    "        # convert to grayscale\n",
    "        img = cv2.cvtColor(img, cv2.COLOR_BGR2GRAY)\n",
    "        img = img.reshape(img.shape[0], img.shape[1], 1)\n",
    "                \n",
    "        cv2.imwrite(f'{master_dir}/xray-dataset/{image}', img)\n",
    "    \n",
    "    if i % 1000 == 0:\n",
    "        print(f'Standardized {i} images')\n",
    "        \n",
    "# for folder_no in range(1, 10):\n",
    "\n",
    "print(\"Finished standardizing images\")"
   ]
  },
  {
   "cell_type": "code",
   "execution_count": null,
   "id": "93d1381b-c473-423d-8ab0-71e2a8b2ae21",
   "metadata": {},
   "outputs": [],
   "source": [
    "processed_dir = master_dir + 'xray-dataset'\n",
    "\n",
    "for i, image in enumerate(os.listdir(processed_dir)):\n",
    "    img = np.asarray(PIL.Image.open(processed_dir + '/' + image))\n",
    "    assert img.shape == (1024, 1024)"
   ]
  }
 ],
 "metadata": {
  "kernelspec": {
   "display_name": "Python 3 (ipykernel)",
   "language": "python",
   "name": "python3"
  },
  "language_info": {
   "codemirror_mode": {
    "name": "ipython",
    "version": 3
   },
   "file_extension": ".py",
   "mimetype": "text/x-python",
   "name": "python",
   "nbconvert_exporter": "python",
   "pygments_lexer": "ipython3",
   "version": "3.10.4"
  }
 },
 "nbformat": 4,
 "nbformat_minor": 5
}
