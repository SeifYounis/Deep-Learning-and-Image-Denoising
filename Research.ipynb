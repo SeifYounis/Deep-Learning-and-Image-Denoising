{
 "cells": [
  {
   "cell_type": "markdown",
   "id": "7117c1e1-3a8c-4634-8be9-f436d7690ca5",
   "metadata": {},
   "source": [
    "# Notes"
   ]
  },
  {
   "cell_type": "markdown",
   "id": "4142edff-f13e-402f-a001-8f9ddf322ebb",
   "metadata": {},
   "source": [
    "## GAN Types\n",
    "* DCGAN (Deep Convolutional GAN)\n",
    "* cGAN (Conditional GAN)"
   ]
  },
  {
   "cell_type": "markdown",
   "id": "9139ae9d-31d6-4fe5-8190-7a06789f00b9",
   "metadata": {},
   "source": [
    "## GAN Architectures\n",
    "* UNET\n",
    "* pix2pix\n",
    "* PatchGAN"
   ]
  }
 ],
 "metadata": {
  "kernelspec": {
   "display_name": "Python 3 (ipykernel)",
   "language": "python",
   "name": "python3"
  },
  "language_info": {
   "codemirror_mode": {
    "name": "ipython",
    "version": 3
   },
   "file_extension": ".py",
   "mimetype": "text/x-python",
   "name": "python",
   "nbconvert_exporter": "python",
   "pygments_lexer": "ipython3",
   "version": "3.10.4"
  }
 },
 "nbformat": 4,
 "nbformat_minor": 5
}
